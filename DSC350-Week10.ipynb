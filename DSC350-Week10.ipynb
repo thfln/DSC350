{
 "cells": [
  {
   "cell_type": "markdown",
   "id": "b56c776b-e8b7-4f2c-ba45-5a6ae8623e4d",
   "metadata": {},
   "source": [
    "# DSC350 - Week 10 - Exercise 10.2"
   ]
  },
  {
   "cell_type": "raw",
   "id": "11aab738-b0fa-4d74-b1f2-adecac0244ea",
   "metadata": {},
   "source": [
    "============================================\n",
    "; Title: Assignment 10.2\n",
    "; Author: Armando Fandango\n",
    "; Date: 05 August 2024\n",
    "; Modified By: Tyler Heflin\n",
    "; Description: This program demonstrates the use of Python to\n",
    "; create and query databases.\n",
    ";=========================================== */"
   ]
  },
  {
   "cell_type": "markdown",
   "id": "702157fa-4e45-43eb-b4f4-bda3a69d694f",
   "metadata": {},
   "source": [
    "Complete the following exercises and submit them to the assignment link. For all exercises in this course, you can either submit a Jupyter Notebook for a PDF of your code. If you submit a .py file you need to also include a PDF or attachment of your results."
   ]
  },
  {
   "cell_type": "markdown",
   "id": "fe030698-0da4-4cd5-8cc7-0927d4067e31",
   "metadata": {},
   "source": [
    "**1. Import sqlite3 and create a cursor**\n",
    " - a) Create the sensors table (pg 180)\n",
    " - b) Write a query to confirm your table was created - print your results\n",
    " - c) Insert random data into the table you created and then select all the results from the table (Select*)\n",
    " - d) Drop the table and confirm it has been dropped based on your previous query\n",
    " - e) Close your connection"
   ]
  },
  {
   "cell_type": "code",
   "execution_count": 1,
   "id": "a80ee985-73c5-41b6-ab1d-e7c6975268b3",
   "metadata": {},
   "outputs": [
    {
     "name": "stdout",
     "output_type": "stream",
     "text": [
      "Table created: [('sensors',)]\n",
      "Table dropped: []\n"
     ]
    }
   ],
   "source": [
    "# Import the necessary library\n",
    "import sqlite3\n",
    "\n",
    "# Connect to SQLite DB \n",
    "conn = sqlite3.connect('test.db')\n",
    "cursor = conn.cursor()\n",
    "\n",
    "# Create sensor table\n",
    "cursor.execute('''CREATE TABLE sensors (date text, city text, code text, sensor_id real, temperature real)''')\n",
    "\n",
    "# Confirm table was created and print results\n",
    "cursor.execute(\"SELECT name FROM sqlite_master WHERE type='table' AND name='sensors';\")\n",
    "table_created = cursor.fetchall()\n",
    "print(\"Table created:\", table_created)\n",
    "\n",
    "# Inset data to table\n",
    "cursor.execute('''INSERT INTO sensors (date, city, code, sensor_id, temperature) VALUES (?, ?, ?, ?, ?)''', ('2016-11-05', 'Utrecht', 'Red', 42, 15.14))\n",
    "\n",
    "# Commit changes\n",
    "conn.commit()\n",
    "\n",
    "# Drop the sensors table\n",
    "cursor.execute('DROP TABLE sensors')\n",
    "\n",
    "# Confirm table was dropped\n",
    "cursor.execute(\"SELECT name FROM sqlite_master WHERE type='table' AND name='sensors';\")\n",
    "table_dropped = cursor.fetchall()\n",
    "print(\"Table dropped:\", table_dropped)\n",
    "\n",
    "# Close connection\n",
    "conn.close()"
   ]
  },
  {
   "cell_type": "markdown",
   "id": "cdade960-d1c3-4588-96b9-fda158ee0e7c",
   "metadata": {},
   "source": [
    "**2. Create a list of tuples to form the pandas DataFrame**\n",
    " - a) Create a table without specifying data types\n",
    " - b) Insert records from a list of tuples - insert all the rows into the table and show the row count\n",
    " - c) Delete the records where the sun activity is greater than 20\n",
    " - d) Write a query to select all data where the year is less than 1732"
   ]
  },
  {
   "cell_type": "code",
   "execution_count": 2,
   "id": "e94eec1f-678b-48c3-8e45-f2a85deb0444",
   "metadata": {},
   "outputs": [
    {
     "name": "stdout",
     "output_type": "stream",
     "text": [
      "Row count before deletion: 309\n",
      "Row count after deletion: 92\n",
      "      year  sunactivity\n",
      "0   1700.0          5.0\n",
      "1   1701.0         11.0\n",
      "2   1702.0         16.0\n",
      "3   1707.0         20.0\n",
      "4   1708.0         10.0\n",
      "5   1709.0          8.0\n",
      "6   1710.0          3.0\n",
      "7   1711.0          0.0\n",
      "8   1712.0          0.0\n",
      "9   1713.0          2.0\n",
      "10  1714.0         11.0\n",
      "11  1723.0         11.0\n"
     ]
    }
   ],
   "source": [
    "# Import necessary libraries\n",
    "import statsmodels.api as sm\n",
    "import pandas as pd\n",
    "from pandas.io.sql import read_sql\n",
    "import sqlite3\n",
    "\n",
    "# Load data to pandas DataFrame\n",
    "data_loader = sm.datasets.sunspots.load_pandas()\n",
    "df = data_loader.data\n",
    "rows = [tuple(x) for x in df.values]\n",
    "\n",
    "# Connect SQLite\n",
    "conn = sqlite3.connect(':memory:')\n",
    "cursor = conn.cursor()\n",
    "\n",
    "# Create table\n",
    "cursor.execute('CREATE TABLE sunspots (year, sunactivity)')\n",
    "\n",
    "# Insert records from DataFrame into table\n",
    "df.to_sql('sunspots', conn, if_exists='append', index=False)\n",
    "\n",
    "# Show row count\n",
    "cursor.execute('SELECT COUNT(*) FROM sunspots')\n",
    "row_count = cursor.fetchone()[0]\n",
    "print(f'Row count before deletion: {row_count}')\n",
    "\n",
    "# Delete records based on specific criteria\n",
    "cursor.execute('DELETE FROM sunspots WHERE sunactivity > 20')\n",
    "\n",
    "# Show row count after deletion\n",
    "cursor.execute('SELECT COUNT(*) FROM sunspots')\n",
    "row_count = cursor.fetchone()[0]\n",
    "print(f'Row count after deletion: {row_count}')\n",
    "\n",
    "# Select all data where year < 1732\n",
    "query = 'SELECT * FROM sunspots WHERE year < 1732'\n",
    "result_df = pd.read_sql(query, conn)\n",
    "\n",
    "# Display results and close connection\n",
    "print(result_df)\n",
    "conn.close()"
   ]
  },
  {
   "cell_type": "markdown",
   "id": "7cb14f38-4ec8-4c77-b76b-8cbbaa49c66c",
   "metadata": {},
   "source": [
    "**3. Install sqlalchemy**\n",
    " - a) Define the superclass\n",
    " - b) Create the DBSession\n",
    " - c) Create 2 stations and commit the session\n",
    " - d) Insert a sensor record"
   ]
  },
  {
   "cell_type": "code",
   "execution_count": 3,
   "id": "fd127a8b-0c92-4ae3-8ee8-733cd837d9a3",
   "metadata": {},
   "outputs": [
    {
     "name": "stdout",
     "output_type": "stream",
     "text": [
      "This script is used by code further down in this notebook\n"
     ]
    }
   ],
   "source": [
    "from sqlalchemy import create_engine, Column, Integer, String, ForeignKey\n",
    "from sqlalchemy.ext.declarative import declarative_base\n",
    "from sqlalchemy.orm import sessionmaker, relationship\n",
    "import warnings\n",
    "warnings.filterwarnings('ignore')\n",
    "\n",
    "# Define the superclass\n",
    "Base = declarative_base()\n",
    "\n",
    "# Define the Station class\n",
    "class Station(Base):\n",
    "    __tablename__ = 'stations'\n",
    "    id = Column(Integer, primary_key=True, autoincrement=True)\n",
    "    name = Column(String, nullable=False)\n",
    "    location = Column(String, nullable=False)\n",
    "\n",
    "# Define the Sensor class\n",
    "class Sensor(Base):\n",
    "    __tablename__ = 'sensors'\n",
    "    id = Column(Integer, primary_key=True, autoincrement=True)\n",
    "    type = Column(String, nullable=False)\n",
    "    station_id = Column(Integer, ForeignKey('stations.id'), nullable=False)\n",
    "\n",
    "    # Define relationship between Station and Sensor\n",
    "    station = relationship('Station', back_populates='sensors')\n",
    "\n",
    "# Add reverse relationship in Station class\n",
    "Station.sensors = relationship('Sensor', order_by=Sensor.id, back_populates='station')\n",
    "\n",
    "# Define function to popluate with engine\n",
    "def populate(engine):\n",
    "    # Create all tables in database\n",
    "    Base.metadata.bind(engine)\n",
    "    # Create configured DBSession class\n",
    "    DBSession = sessionmaker(bind=engine)\n",
    "    # Create a Session\n",
    "    session = DBSession()\n",
    "\n",
    "    # Create two stations\n",
    "    de_bilt = Station(name='De Bilt', location='Netherlands')\n",
    "    utrecht = Station(name='Utrecht', location='Netherlands')\n",
    "    # Add stations to session\n",
    "    session.add(de_bilt)\n",
    "    session.add(utrecht)\n",
    "    # Commit to database\n",
    "    session.commit()\n",
    "\n",
    "    # Insert a sensor record\n",
    "    temp_sensor = Sensor(type='Temperature', station_id=de_bilt.id)\n",
    "    # Add sensor to session\n",
    "    session.add(temp_sensor)\n",
    "    # Commit to database\n",
    "    session.commit()\n",
    "\n",
    "if __name__ == \"__main__\":\n",
    "    print(\"This script is used by code further down in this notebook\")"
   ]
  },
  {
   "cell_type": "markdown",
   "id": "b6376b4a-c4df-4e39-bf3a-1e6b6b36a992",
   "metadata": {},
   "source": [
    "**4. Create an engine from a URI**\n",
    " - a) Create the station and sensor tables with the engine we just created\n",
    " - b) Create a DBSession object\n",
    " - c) Select the first row in the station table\n",
    " - d) Select all the stations\n",
    " - e) Select all the sensors\n",
    " - f) Select the first sensor, which belongs to the first station\n",
    " - g) Query the station table with the pandas read_sql() "
   ]
  },
  {
   "cell_type": "code",
   "execution_count": 4,
   "id": "dfacc12a-82c5-4f0c-b583-0542c5f82b46",
   "metadata": {},
   "outputs": [
    {
     "name": "stdout",
     "output_type": "stream",
     "text": [
      "Query 1 - First station: De Bilt Netherlands\n",
      "Query 2 - All stations:\n",
      "De Bilt Netherlands\n",
      "Utrecht Netherlands\n",
      "All sensors:\n",
      "Temperature 1\n",
      "Query 3 - First sensor of the first station: Temperature\n",
      "Stations DataFrame:\n",
      "   id     name     location\n",
      "0   1  De Bilt  Netherlands\n",
      "1   2  Utrecht  Netherlands\n"
     ]
    }
   ],
   "source": [
    "from sqlalchemy import create_engine, Column, Integer, String, ForeignKey\n",
    "from sqlalchemy.ext.declarative import declarative_base\n",
    "from sqlalchemy.orm import sessionmaker, relationship\n",
    "import pandas as pd\n",
    "import os\n",
    "\n",
    "\n",
    "# Define the superclass\n",
    "Base = declarative_base()\n",
    "\n",
    "# Define the Station class\n",
    "class Station(Base):\n",
    "    __tablename__ = 'stations'\n",
    "    id = Column(Integer, primary_key=True, autoincrement=True)\n",
    "    name = Column(String, nullable=False)\n",
    "    location = Column(String, nullable=False)\n",
    "\n",
    "# Define the Sensor class\n",
    "class Sensor(Base):\n",
    "    __tablename__ = 'sensors'\n",
    "    id = Column(Integer, primary_key=True, autoincrement=True)\n",
    "    type = Column(String, nullable=False)\n",
    "    station_id = Column(Integer, ForeignKey('stations.id'), nullable=False)\n",
    "\n",
    "    # Define relationship between Station and Sensor\n",
    "    station = relationship('Station', back_populates='sensors')\n",
    "\n",
    "# Add reverse relationship in Station class\n",
    "Station.sensors = relationship('Sensor', order_by=Sensor.id, back_populates='station')\n",
    "\n",
    "# Create SQLite DB in memory\n",
    "engine = create_engine('sqlite:///demo.db')\n",
    "\n",
    "# Create all tables in database\n",
    "Base.metadata.create_all(engine)\n",
    "\n",
    "# Create configured DBSession class\n",
    "DBSession = sessionmaker(bind=engine)\n",
    "\n",
    "# Create a Session\n",
    "session = DBSession()\n",
    "\n",
    "# Create two stations\n",
    "de_bilt = Station(name='De Bilt', location='Netherlands')\n",
    "utrecht = Station(name='Utrecht', location='Netherlands')\n",
    "# Add stations to session\n",
    "session.add(de_bilt)\n",
    "session.add(utrecht)\n",
    "# Commit to database\n",
    "session.commit()\n",
    "\n",
    "# Insert a sensor record\n",
    "temp_sensor = Sensor(type='Temperature', station_id=de_bilt.id)\n",
    "# Add sensor to session\n",
    "session.add(temp_sensor)\n",
    "# Commit to database\n",
    "session.commit()\n",
    "\n",
    "# Select first row in station table\n",
    "first_station = session.query(Station).first()\n",
    "print(\"Query 1 - First station:\", first_station.name, first_station.location)\n",
    "\n",
    "# Select all stations\n",
    "all_stations = session.query(Station).all()\n",
    "print(\"Query 2 - All stations:\")\n",
    "for station in all_stations:\n",
    "    print(station.name, station.location)\n",
    "\n",
    "# Select all sensors\n",
    "all_sensors = session.query(Sensor).all()\n",
    "print(\"All sensors:\")\n",
    "for sensor in all_sensors:\n",
    "    print(sensor.type, sensor.station_id)\n",
    "\n",
    "# Select the first sensor belonging to first station\n",
    "first_sensor = session.query(Sensor).filter(Sensor.station_id == first_station.id).first()\n",
    "print(\"Query 3 - First sensor of the first station:\", first_sensor.type)\n",
    "\n",
    "# Query station table with pandas read_sql()\n",
    "df_stations = pd.read_sql('stations', engine)\n",
    "print(\"Stations DataFrame:\")\n",
    "print(df_stations)\n",
    "\n",
    "Base.metadata.drop_all(engine)\n",
    "\n",
    "# Close session\n",
    "session.close()"
   ]
  },
  {
   "cell_type": "markdown",
   "id": "8fef0630-95a0-4673-b568-3355eb83a2fb",
   "metadata": {},
   "source": [
    "**5. Draft a 500-word paper about the ethical impact transforming data could have on society, within your organization, within your own family, etc.**"
   ]
  },
  {
   "cell_type": "markdown",
   "id": "7609aa45-ae09-47aa-941f-0c07852b8086",
   "metadata": {},
   "source": [
    "Essay was completed and turned in via another medium."
   ]
  }
 ],
 "metadata": {
  "kernelspec": {
   "display_name": "Python 3 (ipykernel)",
   "language": "python",
   "name": "python3"
  },
  "language_info": {
   "codemirror_mode": {
    "name": "ipython",
    "version": 3
   },
   "file_extension": ".py",
   "mimetype": "text/x-python",
   "name": "python",
   "nbconvert_exporter": "python",
   "pygments_lexer": "ipython3",
   "version": "3.11.7"
  }
 },
 "nbformat": 4,
 "nbformat_minor": 5
}
