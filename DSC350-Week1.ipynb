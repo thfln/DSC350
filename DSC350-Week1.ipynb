{
 "cells": [
  {
   "cell_type": "markdown",
   "id": "bdbcac8c-dfea-4043-9896-d60e3ce5b1d7",
   "metadata": {},
   "source": [
    "# DSC350 - Week 1 - Exercise 1.2"
   ]
  },
  {
   "cell_type": "raw",
   "id": "38d01153-a659-4a9b-b1bc-30a76ecaed27",
   "metadata": {},
   "source": [
    "============================================\n",
    "; Title: Exercise 1.2\n",
    "; Author: Stefanie Molin / David Kinney\n",
    "; Date: 05 June 2024\n",
    "; Modified By: Tyler Heflin\n",
    "; Description: This program demonstrates the uses of Python various\n",
    "; fundamentals and statistics for data wrangling.\n",
    ";=========================================== */"
   ]
  },
  {
   "cell_type": "markdown",
   "id": "8d546438-b3b5-4da6-8657-4c712df2e581",
   "metadata": {},
   "source": [
    "We start the assignment this week by importing the necessary libraries"
   ]
  },
  {
   "cell_type": "code",
   "execution_count": 1,
   "id": "c5e34973-d098-4bf9-92c0-362c89c69b27",
   "metadata": {},
   "outputs": [],
   "source": [
    "from PIL import Image\n",
    "import matplotlib.pyplot as plt\n",
    "import statistics"
   ]
  },
  {
   "cell_type": "markdown",
   "id": "b7d4a7ea-0237-4361-a450-c57ec8ac050c",
   "metadata": {},
   "source": [
    "## 1. Using Jupyter Notebook or another tool, complete the following refresher tasks in Python:"
   ]
  },
  {
   "cell_type": "markdown",
   "id": "53232c82-4c51-4ea2-881e-d70ce4daf494",
   "metadata": {},
   "source": [
    "**a. Display the text “Hello World! I wonder why that is always the default coding text to start with”**"
   ]
  },
  {
   "cell_type": "code",
   "execution_count": 2,
   "id": "d47dd58d-8124-4626-857c-76e0ec510e0d",
   "metadata": {},
   "outputs": [
    {
     "name": "stdout",
     "output_type": "stream",
     "text": [
      "Hello World! I wonder why that is always the default coding text to start with\n"
     ]
    }
   ],
   "source": [
    "# Display text to user\n",
    "print(\"Hello World! I wonder why that is always the default coding text to start with\")"
   ]
  },
  {
   "cell_type": "markdown",
   "id": "84d1e742-3467-4b34-9837-a4ddfc47f461",
   "metadata": {},
   "source": [
    "**b. Add two numbers together**"
   ]
  },
  {
   "cell_type": "code",
   "execution_count": 3,
   "id": "193e26e7-aa72-482f-b53c-37bcc558f82f",
   "metadata": {},
   "outputs": [
    {
     "name": "stdout",
     "output_type": "stream",
     "text": [
      "The sum of 5 and 10 is 15\n"
     ]
    }
   ],
   "source": [
    "# Define the function to add two numbers\n",
    "def addition(a, b):\n",
    "    return a + b\n",
    "\n",
    "# Example\n",
    "number1 = 5\n",
    "number2 = 10\n",
    "result = addition(number1, number2)\n",
    "\n",
    "# Display result\n",
    "print(f\"The sum of {number1} and {number2} is {result}\")"
   ]
  },
  {
   "cell_type": "markdown",
   "id": "52211f38-9c94-4299-bfb6-20c23d3c817e",
   "metadata": {},
   "source": [
    "**c. Subtract a number from another number**"
   ]
  },
  {
   "cell_type": "code",
   "execution_count": 4,
   "id": "18111f30-270c-47c5-8c6b-b8eba0080491",
   "metadata": {},
   "outputs": [
    {
     "name": "stdout",
     "output_type": "stream",
     "text": [
      "The difference of 10 and 5 is 5\n"
     ]
    }
   ],
   "source": [
    "# Define the function to subract two numbers\n",
    "def subtraction(a, b):\n",
    "    return a - b\n",
    "\n",
    "# Example\n",
    "number1 = 10\n",
    "number2 = 5\n",
    "result = subtraction(number1, number2)\n",
    "\n",
    "# Display result\n",
    "print(f\"The difference of {number1} and {number2} is {result}\")"
   ]
  },
  {
   "cell_type": "markdown",
   "id": "b0b3e046-6d23-4756-beeb-d1fabea06455",
   "metadata": {},
   "source": [
    "**d. Multiply two numbers**"
   ]
  },
  {
   "cell_type": "code",
   "execution_count": 5,
   "id": "edc9beec-4e9f-47b4-ae96-1e44eecd12e3",
   "metadata": {},
   "outputs": [
    {
     "name": "stdout",
     "output_type": "stream",
     "text": [
      "The product of 5 and 10 is 50\n"
     ]
    }
   ],
   "source": [
    "# Define the function to multiply two numbers\n",
    "def multiply(a, b):\n",
    "    return a * b\n",
    "\n",
    "# Example\n",
    "number1 = 5\n",
    "number2 = 10\n",
    "result = multiply(number1, number2)\n",
    "\n",
    "# Display result\n",
    "print(f\"The product of {number1} and {number2} is {result}\")"
   ]
  },
  {
   "cell_type": "markdown",
   "id": "7720dfb9-e55c-457c-baee-a097acc1ef40",
   "metadata": {},
   "source": [
    "**e. Divide between two numbers**"
   ]
  },
  {
   "cell_type": "code",
   "execution_count": 6,
   "id": "dcfad61c-9bcc-42f3-97b3-b056686d83e0",
   "metadata": {},
   "outputs": [
    {
     "name": "stdout",
     "output_type": "stream",
     "text": [
      "The quotient of 10 and 5 is 2.0\n"
     ]
    }
   ],
   "source": [
    "# Define the function to divide two numbers\n",
    "def divide(a, b):\n",
    "    return a / b\n",
    "\n",
    "# Example\n",
    "number1 = 10\n",
    "number2 = 5\n",
    "result = divide(number1, number2)\n",
    "\n",
    "# Display result\n",
    "print(f\"The quotient of {number1} and {number2} is {result}\")"
   ]
  },
  {
   "cell_type": "markdown",
   "id": "b6645057-1d56-4c2d-a751-0a682eb80f6a",
   "metadata": {},
   "source": [
    "**f. Concatenate two strings together (any words)**"
   ]
  },
  {
   "cell_type": "code",
   "execution_count": 7,
   "id": "12aaded4-44e0-416a-8657-26b6e16de590",
   "metadata": {},
   "outputs": [
    {
     "name": "stdout",
     "output_type": "stream",
     "text": [
      "The concatenation of 'Hello_' and 'World' is 'Hello_World'\n"
     ]
    }
   ],
   "source": [
    "# Define function to concatenate two strings\n",
    "def concat_strings(str1, str2):\n",
    "    return str1 + str2\n",
    "\n",
    "# Example\n",
    "string1 = \"Hello_\"\n",
    "string2 = \"World\"\n",
    "result = concat_strings(string1, string2)\n",
    "\n",
    "# Display result\n",
    "print(f\"The concatenation of '{string1}' and '{string2}' is '{result}'\")"
   ]
  },
  {
   "cell_type": "markdown",
   "id": "a0ee8e49-4d5a-442d-8ee9-19baba5504cf",
   "metadata": {},
   "source": [
    "**g. Create a list of 4 items (can be strings, numbers, both)**"
   ]
  },
  {
   "cell_type": "code",
   "execution_count": 8,
   "id": "d0878db6-f428-4a5c-9bda-8af7ccf342ca",
   "metadata": {},
   "outputs": [
    {
     "name": "stdout",
     "output_type": "stream",
     "text": [
      "This list contains: ['strawberry', 21, 'banana', 0.4]\n"
     ]
    }
   ],
   "source": [
    "# Create a list with four items\n",
    "list = [\"strawberry\", 21, \"banana\", 0.4]\n",
    "\n",
    "# Display list\n",
    "print(\"This list contains:\", list)"
   ]
  },
  {
   "cell_type": "markdown",
   "id": "351d52f2-fc91-4184-a96a-23b130048cfa",
   "metadata": {},
   "source": [
    "**h. Append an item to your list (again, can be a string, number)**"
   ]
  },
  {
   "cell_type": "code",
   "execution_count": 9,
   "id": "8eb641c7-9143-47f4-ab2f-04e6ccd7f47a",
   "metadata": {},
   "outputs": [
    {
     "name": "stdout",
     "output_type": "stream",
     "text": [
      "The updated list contains: ['strawberry', 21, 'banana', 0.4, 'broccoli']\n"
     ]
    }
   ],
   "source": [
    "# Create a list with four items\n",
    "list = [\"strawberry\", 21, \"banana\", 0.4]\n",
    "\n",
    "# Add new item\n",
    "new_item = \"broccoli\"\n",
    "\n",
    "# Append new item to list\n",
    "list.append(new_item)\n",
    "\n",
    "# Display list\n",
    "print(\"The updated list contains:\", list)"
   ]
  },
  {
   "cell_type": "markdown",
   "id": "c4ed1644-ea00-47c9-8fcc-9afa7c0c710b",
   "metadata": {},
   "source": [
    "**i. Create a tuple with 4 items (can be strings, numbers, both)**"
   ]
  },
  {
   "cell_type": "code",
   "execution_count": 10,
   "id": "ebfa8e00-5e78-4cb5-96ca-9dd63920aabd",
   "metadata": {},
   "outputs": [
    {
     "name": "stdout",
     "output_type": "stream",
     "text": [
      "First item: strawberry\n",
      "Second item: 21\n"
     ]
    }
   ],
   "source": [
    "# Create a tuple\n",
    "tuple = (\"strawberry\", 21, \"banana\", 0.4)\n",
    "\n",
    "# Trying to modify an item in a tuple will result in a TypeError\n",
    "# Access elements in tuple\n",
    "item1 = tuple[0]\n",
    "item2 = tuple[1]\n",
    "\n",
    "# Display result\n",
    "print(\"First item:\", item1)\n",
    "print(\"Second item:\", item2)"
   ]
  },
  {
   "cell_type": "markdown",
   "id": "332b45cf-fb43-4e7c-9b50-f938e4a2fc96",
   "metadata": {},
   "source": [
    "## Hands-On Data Analysis with Pandas (2nd Edition): Exercise pg 44 1-8"
   ]
  },
  {
   "cell_type": "markdown",
   "id": "59ab8797-9527-48f6-86dc-1b4ceeb86cb2",
   "metadata": {},
   "source": [
    "*The set up and wording below is used directly from the \"Hands-On Data Analysis with Pandas (2nd Edition) GitHub. Since the .ipynb file is not easily editable on GitHub, the formatting was copied into this notebook. The results and actual code are my own, while the formatting and wording of the questions is not.*"
   ]
  },
  {
   "cell_type": "markdown",
   "id": "2b1e320e-64cd-4acf-95c1-ea9f32d6aa6e",
   "metadata": {},
   "source": [
    "**Coding Exercises**"
   ]
  },
  {
   "cell_type": "markdown",
   "id": "5aeb45c4-f2ca-4f40-8c39-6681a88d2ebf",
   "metadata": {},
   "source": [
    "Exercises 1-3 are thought exercises that don't require coding. If you need a Python crash-course/refresher, work through the python_101.ipynb notebook in chapter 1."
   ]
  },
  {
   "cell_type": "markdown",
   "id": "f76be520-e55b-4a59-806d-30c6065a6c9c",
   "metadata": {},
   "source": [
    "**Exercise 1: Explore the JupyterLab interface and look at some of the shortcuts that are available. Don't worry about memorizing them for now (eventually the will become second nature and save you a lot of time) -- just get comfortable using Jupyter Notebooks.**"
   ]
  },
  {
   "cell_type": "markdown",
   "id": "dbca8272-4307-42b9-a13a-1b552087c297",
   "metadata": {},
   "source": [
    "1. After utilizing Jupyter Notebooks for the course \"Math for Data Science\", I have become much more comfortable using them; even incorporating use of Markdown language and LaTeX for a much more streamlined look."
   ]
  },
  {
   "cell_type": "markdown",
   "id": "8adf3627-4b2d-4f07-b83b-cbbc3d55f5ad",
   "metadata": {},
   "source": [
    "**Exercise 2: Is all data normally distributed? Explain why or why not.**"
   ]
  },
  {
   "cell_type": "markdown",
   "id": "28b7d453-1d02-4a39-8a28-86855eca59bd",
   "metadata": {},
   "source": [
    "1. Not all data is normally distributed. Some data is not normally distributed due to insufficient sample size, outliers with strong skew, and underlying processes while others are not just due to the nature of data, especially in cases of count data and data with positive quantities (such as income and population size)."
   ]
  },
  {
   "cell_type": "markdown",
   "id": "e682c5f4-4557-4a3c-bbd6-93193608d9f7",
   "metadata": {},
   "source": [
    "**Exercise 3: When would it make more sense to use the median instead of the mean for the measure of center?**"
   ]
  },
  {
   "cell_type": "markdown",
   "id": "d8d529d3-56a2-44d0-b5ac-ba0f87466ad0",
   "metadata": {},
   "source": [
    "1. Some of the cases where it would be more beneficial to use the median instead of the mean would be skewed distribution, presence of outliers, income data, and small sample sizes. Similar to what is mentioned above, data that is heavily skewed, or where misleading outliers exist, the median can be used so as to not be influenced by them and provider a better measure of center. Similarly, the median can be used for income data so that the mean, which is disproprotionately influenced, can be mitigated. Additionally, small sample sizes use median as a more robust measure of central tendency."
   ]
  },
  {
   "cell_type": "markdown",
   "id": "140aaa13-5144-4c2a-bc5a-433255bc6379",
   "metadata": {},
   "source": [
    "**Exercise 4: Generate the data by running this cell**"
   ]
  },
  {
   "cell_type": "markdown",
   "id": "cea6e453-3b08-4cca-8ab4-4087777ef6bf",
   "metadata": {},
   "source": [
    "This will give you a list of numbers to work with in the remaining exercises."
   ]
  },
  {
   "cell_type": "code",
   "execution_count": 11,
   "id": "5e177ffc-fa95-4199-8324-40077e23d22a",
   "metadata": {},
   "outputs": [],
   "source": [
    "import random\n",
    "\n",
    "random.seed(0)\n",
    "salaries = [round(random.random()*1000000, -3) for _ in range(100)]"
   ]
  },
  {
   "cell_type": "markdown",
   "id": "7c2886cd-7c48-4970-8332-484d911cfdcf",
   "metadata": {},
   "source": [
    "**Exercise 5: Calculating statistics and verifying**"
   ]
  },
  {
   "cell_type": "markdown",
   "id": "925d6fe2-7266-4e9f-903c-7bc5afb1784c",
   "metadata": {},
   "source": [
    "*Mean*"
   ]
  },
  {
   "cell_type": "code",
   "execution_count": 12,
   "id": "970a8820-bfdf-44e5-8e0b-7925ae0e4b44",
   "metadata": {},
   "outputs": [
    {
     "name": "stdout",
     "output_type": "stream",
     "text": [
      "The mean is: 585690.0\n",
      "The mean is: 585690.0\n"
     ]
    }
   ],
   "source": [
    "# Calculate mean\n",
    "mean_salary = sum(salaries) / len(salaries)\n",
    "\n",
    "# Display mean\n",
    "print(f\"The mean is: {mean_salary}\")\n",
    "\n",
    "# Verify with 'statistics' module\n",
    "mean_salary_verified = statistics.mean(salaries)\n",
    "\n",
    "# Display mean again (verified)\n",
    "print(f\"The mean is: {mean_salary_verified}\")"
   ]
  },
  {
   "cell_type": "markdown",
   "id": "f5a20810-3178-4380-9e9b-02ce78eda1c6",
   "metadata": {},
   "source": [
    "*Median*"
   ]
  },
  {
   "cell_type": "code",
   "execution_count": 13,
   "id": "63724eb8-fd11-4944-af7e-6f947718e515",
   "metadata": {},
   "outputs": [
    {
     "name": "stdout",
     "output_type": "stream",
     "text": [
      "The median is: 589000.0\n",
      "The median is: 589000.0\n"
     ]
    }
   ],
   "source": [
    "# Sort the salary list\n",
    "salaries.sort()\n",
    "\n",
    "# Calculate median\n",
    "n = len(salaries)\n",
    "if n % 2 == 0 :\n",
    "    median_salary = (salaries[n//2 - 1] + salaries[n//2]) / 2\n",
    "else:\n",
    "    median_salary = salaries[n//2]\n",
    "\n",
    "# Display median\n",
    "print(f\"The median is: {median_salary}\")\n",
    "\n",
    "# Verify with 'statistics' module\n",
    "median_salary_verified = statistics.median(salaries)\n",
    "\n",
    "# Display median again (verified)\n",
    "print(f\"The median is: {median_salary_verified}\")"
   ]
  },
  {
   "cell_type": "markdown",
   "id": "c542630d-660c-4cd6-a52b-794175b09665",
   "metadata": {},
   "source": [
    "*Mode*"
   ]
  },
  {
   "cell_type": "code",
   "execution_count": 14,
   "id": "5118c479-e2a9-4d5b-bc51-10d1a7e48218",
   "metadata": {},
   "outputs": [
    {
     "name": "stdout",
     "output_type": "stream",
     "text": [
      "The mode is: 477000.0\n",
      "The mode is: 477000.0\n"
     ]
    }
   ],
   "source": [
    "# Calculate mode\n",
    "frequency = {}\n",
    "for salary in salaries:\n",
    "    if salary in frequency:\n",
    "        frequency[salary] += 1\n",
    "    else:\n",
    "        frequency[salary] = 1\n",
    "\n",
    "# Find max value in frequency dictionary\n",
    "mode_salary = max(frequency, key=frequency.get)\n",
    "\n",
    "# Display mode\n",
    "print(f\"The mode is: {mode_salary}\")\n",
    "\n",
    "# Verify with 'statistics' module\n",
    "mode_salary_verified = statistics.mode(salaries)\n",
    "\n",
    "# Display mode again (verified)\n",
    "print(f\"The mode is: {mode_salary_verified}\")"
   ]
  },
  {
   "cell_type": "markdown",
   "id": "d62bd083-a2e6-48e5-b990-8c8c081a6011",
   "metadata": {},
   "source": [
    "*Sample Variance*"
   ]
  },
  {
   "cell_type": "markdown",
   "id": "80745c81-0690-44f0-b926-ccd4bdb31b58",
   "metadata": {},
   "source": [
    "Remember to use Bessel's correction."
   ]
  },
  {
   "cell_type": "code",
   "execution_count": 15,
   "id": "6099def9-b740-4cd9-91cc-eb2ffb1ac6d3",
   "metadata": {},
   "outputs": [
    {
     "name": "stdout",
     "output_type": "stream",
     "text": [
      "The sample variance is: 70664054444.44444\n",
      "The sample variance is: 70664054444.44444\n"
     ]
    }
   ],
   "source": [
    "# We must first ascertain the mean\n",
    "mean_salary = sum(salaries) / len(salaries)\n",
    "\n",
    "# Next, calculate the sum of the squared differences\n",
    "sum_squared_diff = sum((x - mean_salary) ** 2 for x in salaries)\n",
    "\n",
    "# Use Bessel's correction\n",
    "sample_variance = sum_squared_diff / (len(salaries) - 1)\n",
    "\n",
    "# Display sample variance\n",
    "print(f\"The sample variance is: {sample_variance}\")\n",
    "\n",
    "# Verify with 'statistics' module\n",
    "sample_variance_verified = statistics.variance(salaries)\n",
    "\n",
    "# Display sample variance again (verified)\n",
    "print(f\"The sample variance is: {sample_variance_verified}\")"
   ]
  },
  {
   "cell_type": "markdown",
   "id": "0955573e-145f-4c34-b493-e80604f6bd08",
   "metadata": {},
   "source": [
    "*Sample Standard Deviation*"
   ]
  },
  {
   "cell_type": "markdown",
   "id": "dc0e3fbb-23f2-48df-b64e-28d3c704c12c",
   "metadata": {},
   "source": [
    "Remember to use Bessel's correction."
   ]
  },
  {
   "cell_type": "code",
   "execution_count": 16,
   "id": "012129f9-8918-4da8-90ca-b856bd5fe76c",
   "metadata": {},
   "outputs": [
    {
     "name": "stdout",
     "output_type": "stream",
     "text": [
      "The sample standard deviation is: 265827.11382484\n",
      "The sample standard deviation is: 265827.11382484\n"
     ]
    }
   ],
   "source": [
    "# We must first ascertain the mean\n",
    "mean_salary = sum(salaries) / len(salaries)\n",
    "\n",
    "# Next, calculate the sum of the squared differences\n",
    "sum_squared_diff = sum((x - mean_salary) ** 2 for x in salaries)\n",
    "\n",
    "# Use Bessel's correction\n",
    "sample_variance = sum_squared_diff / (len(salaries) - 1)\n",
    "\n",
    "# Calculate sample standard deviation\n",
    "sample_standard_deviation = sample_variance ** 0.5\n",
    "\n",
    "# Display sample standard deviation\n",
    "print(f\"The sample standard deviation is: {sample_standard_deviation}\")\n",
    "\n",
    "# Verify with 'statistics' module\n",
    "sample_standard_deviation_verified = statistics.stdev(salaries)\n",
    "\n",
    "# Display sample standard deviation again (verified)\n",
    "print(f\"The sample standard deviation is: {sample_standard_deviation_verified}\")"
   ]
  },
  {
   "cell_type": "markdown",
   "id": "e9ae2329-0ccf-4133-8afa-4f8dd99d341f",
   "metadata": {},
   "source": [
    "**Exercise 6: Calculating more statistics**"
   ]
  },
  {
   "cell_type": "markdown",
   "id": "3c685b54-5ca2-467d-8d68-e4c23ad62df4",
   "metadata": {},
   "source": [
    "*Range*"
   ]
  },
  {
   "cell_type": "code",
   "execution_count": 17,
   "id": "7c84a71d-6a23-4675-84dd-8cb5b2334946",
   "metadata": {},
   "outputs": [
    {
     "name": "stdout",
     "output_type": "stream",
     "text": [
      "The range of salaries is: 995000.0\n"
     ]
    }
   ],
   "source": [
    "# Calculate the range\n",
    "range = max(salaries) - min(salaries)\n",
    "\n",
    "# Display result\n",
    "print(f\"The range of salaries is: {range}\")"
   ]
  },
  {
   "cell_type": "markdown",
   "id": "7013abab-45e3-4974-b41a-c1f5999de8f9",
   "metadata": {},
   "source": [
    "*Coefficient of variation*"
   ]
  },
  {
   "cell_type": "markdown",
   "id": "734c6244-1310-45a2-9a57-2526b12c1c7e",
   "metadata": {},
   "source": [
    "Make sure to use the sample standard deviation."
   ]
  },
  {
   "cell_type": "code",
   "execution_count": 18,
   "id": "dbf4f9f3-75f6-419c-ac56-516f1c9f2eeb",
   "metadata": {},
   "outputs": [
    {
     "name": "stdout",
     "output_type": "stream",
     "text": [
      "The coefficient of variation for the salaries is: 45.39%\n"
     ]
    }
   ],
   "source": [
    "# Begin by calculating the mean\n",
    "mean_salary = statistics.mean(salaries)\n",
    "\n",
    "# Next, calculate the sum of the squared differences\n",
    "sum_squared_diff = sum((x - mean_salary) ** 2 for x in salaries)\n",
    "\n",
    "# Use Bessel's correction\n",
    "sample_variance = sum_squared_diff / (len(salaries) - 1)\n",
    "\n",
    "# Calculate sample standard deviation\n",
    "sample_standard_deviation = sample_variance ** 0.5\n",
    "\n",
    "# Calculate the coefficient of variation\n",
    "co_var_salary = (sample_standard_deviation / mean_salary) * 100\n",
    "\n",
    "# Display coefficient of variation\n",
    "print(f\"The coefficient of variation for the salaries is: {co_var_salary:.2f}%\")"
   ]
  },
  {
   "cell_type": "markdown",
   "id": "f503a3b6-22e7-433b-9461-e6e72cd03e21",
   "metadata": {},
   "source": [
    "*Interquartile range*"
   ]
  },
  {
   "cell_type": "code",
   "execution_count": 19,
   "id": "d7f8d97a-9bd5-4940-8b66-4e6edb132b1e",
   "metadata": {},
   "outputs": [
    {
     "name": "stdout",
     "output_type": "stream",
     "text": [
      "The interquartile range of the salaries is: 413250.0\n"
     ]
    }
   ],
   "source": [
    "# Begin by sorting the list\n",
    "salaries.sort()\n",
    "\n",
    "# Define the function to calculate the percentile\n",
    "def percentile(data, percent):\n",
    "    k = (len(data) - 1) * percent / 100\n",
    "    f = int(k)\n",
    "    c = k - f\n",
    "    if f + 1 < len(data):\n",
    "        return data[f] + (data[f +1] - data[f]) * c\n",
    "    else:\n",
    "        return data[f]\n",
    "\n",
    "# Now, we can calculate Q1 and Q3\n",
    "q1 = percentile(salaries, 25)\n",
    "q3 = percentile(salaries, 75)\n",
    "\n",
    "# Calculate the IQR\n",
    "iqr = q3 - q1\n",
    "\n",
    "# Display the IQR\n",
    "print(f\"The interquartile range of the salaries is: {iqr}\")"
   ]
  },
  {
   "cell_type": "markdown",
   "id": "5175a693-64fb-43b6-91d4-f7e9af2d7c63",
   "metadata": {},
   "source": [
    "*Quartile coefficient of dispersion*"
   ]
  },
  {
   "cell_type": "code",
   "execution_count": 20,
   "id": "2d18d9f4-470b-481a-bbb6-97f89e76d962",
   "metadata": {},
   "outputs": [
    {
     "name": "stdout",
     "output_type": "stream",
     "text": [
      "The quartile coefficient of dispersion for the salaries is: 0.338660110633067\n"
     ]
    }
   ],
   "source": [
    "# Information from the previous problem can be used\n",
    "# Calculate the quartile coefficient of dispersion\n",
    "quar_co_of_dispersion = (q3 - q1) / (q3 + q1)\n",
    "\n",
    "# Display result\n",
    "print(f\"The quartile coefficient of dispersion for the salaries is: {quar_co_of_dispersion}\")"
   ]
  },
  {
   "cell_type": "markdown",
   "id": "b298482e-b129-442d-9b4d-5bfa642652ca",
   "metadata": {},
   "source": [
    "**Exercise 7: Scaling data**"
   ]
  },
  {
   "cell_type": "markdown",
   "id": "bf27160f-fb23-4dc1-91fe-e01a9f13ebda",
   "metadata": {},
   "source": [
    "*min-max scaling*"
   ]
  },
  {
   "cell_type": "code",
   "execution_count": 21,
   "id": "cde4d2d0-674f-4ba5-b760-499ff782f0a3",
   "metadata": {},
   "outputs": [
    {
     "name": "stdout",
     "output_type": "stream",
     "text": [
      "The scaled salaries are: [0.0, 0.01306532663316583, 0.07939698492462312, 0.0814070351758794, 0.08944723618090453, 0.10050251256281408, 0.10854271356783919, 0.18693467336683417, 0.18894472361809045, 0.19095477386934673, 0.23919597989949748, 0.2442211055276382, 0.25125628140703515, 0.2592964824120603, 0.26030150753768844, 0.27638190954773867, 0.28241206030150756, 0.2904522613065327, 0.3035175879396985, 0.31055276381909547, 0.32060301507537686, 0.3256281407035176, 0.385929648241206, 0.39195979899497485, 0.4, 0.40603015075376886, 0.4221105527638191, 0.43517587939698493, 0.4462311557788945, 0.4492462311557789, 0.45226130653266333, 0.4733668341708543, 0.47839195979899496, 0.47839195979899496, 0.47839195979899496, 0.48743718592964824, 0.49547738693467336, 0.5065326633165829, 0.5095477386934674, 0.5125628140703518, 0.5417085427135678, 0.542713567839196, 0.5487437185929648, 0.5507537688442211, 0.5527638190954773, 0.5698492462311557, 0.5778894472361809, 0.5819095477386935, 0.5849246231155779, 0.5899497487437186, 0.5919597989949749, 0.5979899497487438, 0.6050251256281407, 0.6130653266331658, 0.6150753768844222, 0.6150753768844222, 0.6201005025125628, 0.6592964824120603, 0.6623115577889447, 0.6703517587939698, 0.6864321608040201, 0.7075376884422111, 0.7095477386934673, 0.7226130653266332, 0.7326633165829146, 0.7587939698492462, 0.7608040201005025, 0.7608040201005025, 0.7869346733668342, 0.7959798994974875, 0.8060301507537688, 0.8080402010050252, 0.8130653266331658, 0.8150753768844221, 0.8170854271356784, 0.828140703517588, 0.8452261306532663, 0.8472361809045226, 0.8522613065326633, 0.8683417085427135, 0.871356783919598, 0.8733668341708543, 0.8804020100502512, 0.8984924623115578, 0.9015075376884422, 0.9025125628140703, 0.9055276381909547, 0.9115577889447236, 0.91356783919598, 0.9165829145728643, 0.9206030150753769, 0.9266331658291457, 0.9266331658291457, 0.9366834170854271, 0.9537688442211055, 0.9678391959798995, 0.9708542713567839, 0.9718592964824121, 0.9869346733668342, 1.0]\n"
     ]
    }
   ],
   "source": [
    "# Calculate the min and max values\n",
    "min_salary = min(salaries)\n",
    "max_salary = max(salaries)\n",
    "\n",
    "# Min-max scaling is performed\n",
    "scaled_salaries = [(salary - min_salary) / (max_salary - min_salary) for salary in salaries]\n",
    "\n",
    "# Display scaled result\n",
    "print(f\"The scaled salaries are: {scaled_salaries}\")"
   ]
  },
  {
   "cell_type": "markdown",
   "id": "c04a1dd2-071c-467d-8bf7-a76c310023fe",
   "metadata": {},
   "source": [
    "*standardizing*"
   ]
  },
  {
   "cell_type": "code",
   "execution_count": 22,
   "id": "d52dee23-ad78-42ab-afbe-2f70e744c74e",
   "metadata": {},
   "outputs": [
    {
     "name": "stdout",
     "output_type": "stream",
     "text": [
      "The standardized salaries are: [-2.199512275430514, -2.150608309943509, -1.9023266390094862, -1.8948029520114855, -1.8647082040194827, -1.8233279255304788, -1.7932331775384762, -1.4998093846164489, -1.4922856976184482, -1.4847620106204475, -1.304193522668431, -1.285384305173429, -1.2590514006804265, -1.228956652688424, -1.2251948091894236, -1.165005313205418, -1.142434252211416, -1.112339504219413, -1.0634355387324086, -1.037102634239406, -0.9994841992494026, -0.9806749817544008, -0.7549643718143799, -0.7323933108203778, -0.7022985628283751, -0.6797275018343729, -0.6195380058503674, -0.5706340403633628, -0.529253761874359, -0.517968231377358, -0.5066827008803569, -0.4276839874013496, -0.40887476990634786, -0.40887476990634786, -0.40887476990634786, -0.37501817841534474, -0.34492343042334195, -0.3035431519343381, -0.2922576214373371, -0.28097209094033604, -0.17187862946932592, -0.16811678597032556, -0.14554572497632348, -0.1380220379783228, -0.1304983509803221, -0.06654701149731616, -0.03645226350531338, -0.02140488950931198, -0.010119359012310937, 0.008689858482690806, 0.016213545480691503, 0.038784606474693596, 0.06511751096769604, 0.09521225895969881, 0.10273594595769951, 0.10273594595769951, 0.12154516345270126, 0.26825705991371485, 0.2795425904107159, 0.3096373384027187, 0.36982683438672426, 0.4488255478657316, 0.4563492348637323, 0.5052532003507368, 0.5428716353407403, 0.6406795663147493, 0.6482032533127501, 0.6482032533127501, 0.7460111842867592, 0.7798677757777622, 0.8174862107677657, 0.8250098977657664, 0.8438191152607681, 0.8513428022587689, 0.8588664892567696, 0.9002467677457734, 0.9641981072287793, 0.9717217942267801, 0.9905310117217818, 1.0507205077057873, 1.0620060382027885, 1.0695297252007891, 1.0958626296937914, 1.1635758126757978, 1.1748613431727988, 1.178623186671799, 1.1899087171688003, 1.2124797781628023, 1.220003465160803, 1.2312889956578041, 1.2463363696538055, 1.2689074306478076, 1.2689074306478076, 1.3065258656378111, 1.370477205120817, 1.4231430141068218, 1.434428544603823, 1.4381903881028233, 1.4946180405878284, 1.543522006074833]\n"
     ]
    }
   ],
   "source": [
    "# We must first ascertain the mean\n",
    "mean_salary = sum(salaries) / len(salaries)\n",
    "\n",
    "# Next, calculate the sum of the squared differences\n",
    "sum_squared_diff = sum((x - mean_salary) ** 2 for x in salaries)\n",
    "\n",
    "# Use Bessel's correction\n",
    "sample_variance = sum_squared_diff / (len(salaries) - 1)\n",
    "\n",
    "# Calculate sample standard deviation\n",
    "sample_standard_deviation = sample_variance ** 0.5\n",
    "\n",
    "# Standardization of sample standard deviation is performed\n",
    "standardized_salaries = [(salary - mean_salary) / sample_standard_deviation for salary in salaries]\n",
    "\n",
    "# Display standarized set\n",
    "print(f\"The standardized salaries are: {standardized_salaries}\")"
   ]
  },
  {
   "cell_type": "markdown",
   "id": "62aa658c-cb04-42c2-bd9c-dd0a44c142c0",
   "metadata": {},
   "source": [
    "**Exercise 8: Calculating covariance and correlation**"
   ]
  },
  {
   "cell_type": "markdown",
   "id": "51faed10-d6fa-4897-9230-4ad268e153e4",
   "metadata": {},
   "source": [
    "*Covariance*"
   ]
  },
  {
   "cell_type": "code",
   "execution_count": 23,
   "id": "cee68a83-ab86-403a-87a5-0adb35213897",
   "metadata": {},
   "outputs": [
    {
     "name": "stdout",
     "output_type": "stream",
     "text": [
      "The covariance between the normalized salaries and standardized salaries is: 0.267162928467176\n"
     ]
    }
   ],
   "source": [
    "# Calculate the mean of the scaled and standardized salaries\n",
    "mean_scaled = sum(scaled_salaries) / len(scaled_salaries)\n",
    "mean_standardized = sum(standardized_salaries) / len(standardized_salaries)\n",
    "\n",
    "# Calculate covariance\n",
    "covariance = sum((scaled - mean_scaled) * (standardized - mean_standardized)\n",
    "                 for scaled, standardized in\n",
    "                 zip(scaled_salaries, standardized_salaries)) / (len(scaled_salaries) - 1)\n",
    "\n",
    "# Display covariance\n",
    "print(f\"The covariance between the normalized salaries and standardized salaries is: {covariance}\")"
   ]
  },
  {
   "cell_type": "markdown",
   "id": "fc93c7c3-77a6-4e0e-b150-694d4543f002",
   "metadata": {},
   "source": [
    "*Pearson correlation coefficient $(\\rho)$*"
   ]
  },
  {
   "cell_type": "code",
   "execution_count": 24,
   "id": "101415f9-3694-4b66-8d63-7b8b2c410410",
   "metadata": {},
   "outputs": [
    {
     "name": "stdout",
     "output_type": "stream",
     "text": [
      "The Pearson correlation coefficient between the normalized salaries and standardized salaries is: 1.0000000000000004\n"
     ]
    }
   ],
   "source": [
    "# Calculate standard deviation for scaled and standardized salaries\n",
    "stdev_scaled = statistics.stdev(scaled_salaries)\n",
    "stdev_standardized = statistics.stdev(standardized_salaries)\n",
    "\n",
    "# Calculate the Pearson correlation coefficient\n",
    "correlation_coefficient = covariance / (stdev_scaled * stdev_standardized)\n",
    "\n",
    "# Display correlation coefficient\n",
    "print(f\"The Pearson correlation coefficient between the normalized salaries and standardized salaries is: {correlation_coefficient}\")"
   ]
  },
  {
   "cell_type": "markdown",
   "id": "1b257b53-97ad-4b78-980d-1c4638877961",
   "metadata": {},
   "source": [
    "## Clone or Fork both GitHub Repositories from the 2 books we are using this term – submit a screenshot that shows you have the files forked or cloned"
   ]
  },
  {
   "cell_type": "markdown",
   "id": "6c0110db-b4d5-41b1-917f-218f8d40bea8",
   "metadata": {},
   "source": [
    "**1. Hands-On Data Analysis with Pandas, 2nd Edition**"
   ]
  },
  {
   "cell_type": "code",
   "execution_count": 25,
   "id": "1190363c-3c8b-4c84-9d01-8787eb71bbbd",
   "metadata": {},
   "outputs": [
    {
     "data": {
      "image/png": "[encoded data removed]",
      "text/plain": [
       "<Figure size 640x480 with 1 Axes>"
      ]
     },
     "metadata": {},
     "output_type": "display_data"
    }
   ],
   "source": [
    "# Load file\n",
    "image_path = r'C:\\Users\\thefli0\\Downloads\\Hands_On_Data_Analysis.png'\n",
    "image = Image.open(image_path)\n",
    "\n",
    "# Display screenshot\n",
    "plt.imshow(image)\n",
    "plt.axis('off')\n",
    "plt.show()"
   ]
  },
  {
   "cell_type": "markdown",
   "id": "85be0c3d-4fe4-48d0-ba8f-c38f7a5d1b3a",
   "metadata": {},
   "source": [
    "**2. Python Data Analysis**"
   ]
  },
  {
   "cell_type": "code",
   "execution_count": 26,
   "id": "04f0641b-6afc-4032-a774-da6d36aafb86",
   "metadata": {},
   "outputs": [
    {
     "data": {
      "image/png": "[encoded data removed]",
      "text/plain": [
       "<Figure size 640x480 with 1 Axes>"
      ]
     },
     "metadata": {},
     "output_type": "display_data"
    }
   ],
   "source": [
    "# Load file\n",
    "image_path = r'C:\\Users\\thefli0\\Downloads\\Python_Data_Analysis.png'\n",
    "image = Image.open(image_path)\n",
    "\n",
    "# Display screenshot\n",
    "plt.imshow(image)\n",
    "plt.axis('off')\n",
    "plt.show()"
   ]
  }
 ],
 "metadata": {
  "kernelspec": {
   "display_name": "Python 3 (ipykernel)",
   "language": "python",
   "name": "python3"
  },
  "language_info": {
   "codemirror_mode": {
    "name": "ipython",
    "version": 3
   },
   "file_extension": ".py",
   "mimetype": "text/x-python",
   "name": "python",
   "nbconvert_exporter": "python",
   "pygments_lexer": "ipython3",
   "version": "3.11.7"
  }
 },
 "nbformat": 4,
 "nbformat_minor": 5
}
