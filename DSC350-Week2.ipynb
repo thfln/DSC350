{
 "cells": [
  {
   "cell_type": "markdown",
   "id": "d20d42eb-98fc-4469-a8e5-7b1764ee5679",
   "metadata": {},
   "source": [
    "# DSC350 - Week 2 - Exercise 2.2"
   ]
  },
  {
   "cell_type": "markdown",
   "id": "4ce73431-5dae-43ac-b7b7-5dac170b7d84",
   "metadata": {},
   "source": [
    "We begin the week by importing the libraries that will be needed to complete the assignment."
   ]
  },
  {
   "cell_type": "code",
   "execution_count": 1,
   "id": "dc15656e-b9c4-4063-a69d-3470d566c353",
   "metadata": {},
   "outputs": [],
   "source": [
    "import numpy as np\n",
    "import pandas as pd\n",
    "from sklearn.datasets import load_iris\n",
    "import matplotlib.pyplot as plt"
   ]
  },
  {
   "cell_type": "raw",
   "id": "69e5f8e2-64a5-480d-98a0-1aedf1ad3760",
   "metadata": {},
   "source": [
    "============================================\n",
    "; Title: Assignment 1.4\n",
    "; Author: Armando Fandango\n",
    "; Date: 13 June 2024\n",
    "; Modified By: Tyler Heflin\n",
    "; Description: This program demonstrates the use of Python for vectors\n",
    "; and array manipulation.\n",
    ";=========================================== */"
   ]
  },
  {
   "cell_type": "markdown",
   "id": "323a23a4-32ae-49ff-b530-39e91fd2a9a8",
   "metadata": {},
   "source": [
    "## Vectors"
   ]
  },
  {
   "cell_type": "markdown",
   "id": "14fb185b-c1f8-457d-b6a9-7e28efec9f0a",
   "metadata": {},
   "source": [
    "**1. The vector (a) hold the squares of integers 0 to $n$; for instance, if $n$ is equal to 3, it contains 0, 1, and 4. The vector (b) holds the cubes of integers 0 to n, so if $n$ equals 3, then the vector (b) is equal to 0, 1, or 8. How would you solve using python and then how would you solve using NumPy?**"
   ]
  },
  {
   "cell_type": "code",
   "execution_count": 2,
   "id": "1420fa8e-4aca-4883-b492-970d77afc3d4",
   "metadata": {},
   "outputs": [
    {
     "name": "stdout",
     "output_type": "stream",
     "text": [
      "Vector (a) without NumPy: [0, 1, 4, 9]\n",
      "Vector (b) without NumPy: [0, 1, 8, 27]\n",
      "Vector (a) with NumPy: [0 1 4 9]\n",
      "Vector (b) with NumPy: [ 0  1  8 27]\n"
     ]
    }
   ],
   "source": [
    "# Vectors without using NumPy\n",
    "# Define the function that will generate the vectors based on the information provided\n",
    "def generate_vectors(n):\n",
    "    # Vector (a) returns squares\n",
    "    a = [i**2 for i in range(n+1)]\n",
    "    # Vector (b) returns cubes\n",
    "    b = [i**3 for i in range(n+1)]\n",
    "    return a, b\n",
    "\n",
    "# Test usage and show results\n",
    "n = 3\n",
    "a, b = generate_vectors(n)\n",
    "print(\"Vector (a) without NumPy:\", a)\n",
    "print(\"Vector (b) without NumPy:\", b)\n",
    "\n",
    "# Vectors with NumPy\n",
    "# Define the function that will generate the vectors based on the information provided\n",
    "def generate_vectors(n):\n",
    "    # Use NumPy functions to improve efficiency\n",
    "    x = np.arange(n + 1)\n",
    "    a = np.square(x)\n",
    "    b = np.power(x, 3)\n",
    "    return a, b\n",
    "\n",
    "# Test usage and show results\n",
    "n = 3\n",
    "a, b = generate_vectors(n)\n",
    "print(\"Vector (a) with NumPy:\", a)\n",
    "print(\"Vector (b) with NumPy:\", b)"
   ]
  },
  {
   "cell_type": "markdown",
   "id": "eab420a4-298a-43dc-9516-793fb2c09ab7",
   "metadata": {},
   "source": [
    "***"
   ]
  },
  {
   "cell_type": "markdown",
   "id": "26091302-4ccd-4f19-8a73-7c515b584d7c",
   "metadata": {},
   "source": [
    "## Matplotlib plots"
   ]
  },
  {
   "cell_type": "markdown",
   "id": "7261faff-032d-48ea-9cc2-9ddd5e291cee",
   "metadata": {},
   "source": [
    "**2. Load the iris dataset, print a description of the dataset, and plot column 1 (sepal length) as x and column 2 (sepal width) as y.**"
   ]
  },
  {
   "cell_type": "code",
   "execution_count": 3,
   "id": "8d2e460c-f17d-4262-9292-8afc555bc4b9",
   "metadata": {},
   "outputs": [
    {
     "name": "stdout",
     "output_type": "stream",
     "text": [
      ".. _iris_dataset:\n",
      "\n",
      "Iris plants dataset\n",
      "--------------------\n",
      "\n",
      "**Data Set Characteristics:**\n",
      "\n",
      "    :Number of Instances: 150 (50 in each of three classes)\n",
      "    :Number of Attributes: 4 numeric, predictive attributes and the class\n",
      "    :Attribute Information:\n",
      "        - sepal length in cm\n",
      "        - sepal width in cm\n",
      "        - petal length in cm\n",
      "        - petal width in cm\n",
      "        - class:\n",
      "                - Iris-Setosa\n",
      "                - Iris-Versicolour\n",
      "                - Iris-Virginica\n",
      "                \n",
      "    :Summary Statistics:\n",
      "\n",
      "    ============== ==== ==== ======= ===== ====================\n",
      "                    Min  Max   Mean    SD   Class Correlation\n",
      "    ============== ==== ==== ======= ===== ====================\n",
      "    sepal length:   4.3  7.9   5.84   0.83    0.7826\n",
      "    sepal width:    2.0  4.4   3.05   0.43   -0.4194\n",
      "    petal length:   1.0  6.9   3.76   1.76    0.9490  (high!)\n",
      "    petal width:    0.1  2.5   1.20   0.76    0.9565  (high!)\n",
      "    ============== ==== ==== ======= ===== ====================\n",
      "\n",
      "    :Missing Attribute Values: None\n",
      "    :Class Distribution: 33.3% for each of 3 classes.\n",
      "    :Creator: R.A. Fisher\n",
      "    :Donor: Michael Marshall (MARSHALL%PLU@io.arc.nasa.gov)\n",
      "    :Date: July, 1988\n",
      "\n",
      "The famous Iris database, first used by Sir R.A. Fisher. The dataset is taken\n",
      "from Fisher's paper. Note that it's the same as in R, but not as in the UCI\n",
      "Machine Learning Repository, which has two wrong data points.\n",
      "\n",
      "This is perhaps the best known database to be found in the\n",
      "pattern recognition literature.  Fisher's paper is a classic in the field and\n",
      "is referenced frequently to this day.  (See Duda & Hart, for example.)  The\n",
      "data set contains 3 classes of 50 instances each, where each class refers to a\n",
      "type of iris plant.  One class is linearly separable from the other 2; the\n",
      "latter are NOT linearly separable from each other.\n",
      "\n",
      ".. topic:: References\n",
      "\n",
      "   - Fisher, R.A. \"The use of multiple measurements in taxonomic problems\"\n",
      "     Annual Eugenics, 7, Part II, 179-188 (1936); also in \"Contributions to\n",
      "     Mathematical Statistics\" (John Wiley, NY, 1950).\n",
      "   - Duda, R.O., & Hart, P.E. (1973) Pattern Classification and Scene Analysis.\n",
      "     (Q327.D83) John Wiley & Sons.  ISBN 0-471-22361-1.  See page 218.\n",
      "   - Dasarathy, B.V. (1980) \"Nosing Around the Neighborhood: A New System\n",
      "     Structure and Classification Rule for Recognition in Partially Exposed\n",
      "     Environments\".  IEEE Transactions on Pattern Analysis and Machine\n",
      "     Intelligence, Vol. PAMI-2, No. 1, 67-71.\n",
      "   - Gates, G.W. (1972) \"The Reduced Nearest Neighbor Rule\".  IEEE Transactions\n",
      "     on Information Theory, May 1972, 431-433.\n",
      "   - See also: 1988 MLC Proceedings, 54-64.  Cheeseman et al\"s AUTOCLASS II\n",
      "     conceptual clustering system finds 3 classes in the data.\n",
      "   - Many, many more ...\n"
     ]
    }
   ],
   "source": [
    "# Load the dataset\n",
    "iris = load_iris()\n",
    "# Display a description of the set\n",
    "print(iris.DESCR)"
   ]
  },
  {
   "cell_type": "code",
   "execution_count": 4,
   "id": "a3bbed6b-ed0f-4f0a-b6d0-aca39fac2e9c",
   "metadata": {},
   "outputs": [
    {
     "data": {
      "image/png": "[encoded data removed]",
      "text/plain": [
       "<Figure size 640x480 with 1 Axes>"
      ]
     },
     "metadata": {},
     "output_type": "display_data"
    }
   ],
   "source": [
    "# Use the data to generate the visualization\n",
    "data=iris.data\n",
    "plt.plot(data[:,0], data[:,1], \".\")\n",
    "# Add labels and customization\n",
    "plt.title('Sepal Length vs Sepal Width')\n",
    "plt.xlabel('Sepal Length (cm)')\n",
    "plt.ylabel('Sepal Width (cm)')\n",
    "plt.grid(True)\n",
    "plt.show()"
   ]
  },
  {
   "cell_type": "markdown",
   "id": "e1529e2d-27fc-4fac-9f21-5b739267b39a",
   "metadata": {},
   "source": [
    "**3. Load the boston dataset, print the description of the dataset, and plot column 3 (proportion of non-retail business) as x and column 5 (nitric oxide concentration) as y, with each point on the plot marked with a + sign.**"
   ]
  },
  {
   "cell_type": "code",
   "execution_count": 5,
   "id": "fd8e1b32-8ab8-4f93-b180-addf47a36b81",
   "metadata": {},
   "outputs": [
    {
     "name": "stdout",
     "output_type": "stream",
     "text": [
      "\n",
      "Boston House Prices dataset\n",
      "===========================\n",
      "\n",
      "Notes\n",
      "------\n",
      "Data Set Characteristics:  \n",
      "\n",
      "    :Number of Instances: 506 \n",
      "\n",
      "    :Number of Attributes: 13 numeric/categorical predictive\n",
      "    \n",
      "    :Median Value (attribute 14) is usually the target\n",
      "\n",
      "    :Attribute Information (in order):\n",
      "        - CRIM     per capita crime rate by town\n",
      "        - ZN       proportion of residential land zoned for lots over 25,000 sq.ft.\n",
      "        - INDUS    proportion of non-retail business acres per town\n",
      "        - CHAS     Charles River dummy variable (= 1 if tract bounds river; 0 otherwise)\n",
      "        - NOX      nitric oxides concentration (parts per 10 million)\n",
      "        - RM       average number of rooms per dwelling\n",
      "        - AGE      proportion of owner-occupied units built prior to 1940\n",
      "        - DIS      weighted distances to five Boston employment centres\n",
      "        - RAD      index of accessibility to radial highways\n",
      "        - TAX      full-value property-tax rate per $10,000\n",
      "        - PTRATIO  pupil-teacher ratio by town\n",
      "        - B        1000(Bk - 0.63)^2 where Bk is the proportion of blacks by town\n",
      "        - LSTAT    % lower status of the population\n",
      "        - MEDV     Median value of owner-occupied homes in $1000's\n",
      "\n",
      "    :Missing Attribute Values: None\n",
      "\n",
      "    :Creator: Harrison, D. and Rubinfeld, D.L.\n",
      "\n",
      "This is a copy of UCI ML housing dataset.\n",
      "http://archive.ics.uci.edu/ml/datasets/Housing\n",
      "\n",
      "\n",
      "This dataset was taken from the StatLib library which is maintained at Carnegie Mellon University.\n",
      "\n",
      "The Boston house-price data of Harrison, D. and Rubinfeld, D.L. 'Hedonic\n",
      "prices and the demand for clean air', J. Environ. Economics & Management,\n",
      "vol.5, 81-102, 1978.   Used in Belsley, Kuh & Welsch, 'Regression diagnostics\n",
      "...', Wiley, 1980.   N.B. Various transformations are used in the table on\n",
      "pages 244-261 of the latter.\n",
      "\n",
      "The Boston house-price data has been used in many machine learning papers that address regression\n",
      "problems.   \n",
      "     \n",
      "**References**\n",
      "\n",
      "   - Belsley, Kuh & Welsch, 'Regression diagnostics: Identifying Influential Data and Sources of Collinearity', Wiley, 1980. 244-261.\n",
      "   - Quinlan,R. (1993). Combining Instance-Based and Model-Based Learning. In Proceedings on the Tenth International Conference of Machine Learning, 236-243, University of Massachusetts, Amherst. Morgan Kaufmann.\n",
      "   - many more! (see http://archive.ics.uci.edu/ml/datasets/Housing)\n",
      "\n"
     ]
    },
    {
     "data": {
      "image/png": "[encoded data removed]",
      "text/plain": [
       "<Figure size 640x480 with 1 Axes>"
      ]
     },
     "metadata": {},
     "output_type": "display_data"
    }
   ],
   "source": [
    "# Load the dataset from original source\n",
    "# Note - This dataset it known to have ethical issues and is only being used\n",
    "# to complete exercises for the weekly assignment\n",
    "data_url = \"http://lib.stat.cmu.edu/datasets/boston\"\n",
    "raw_df = pd.read_csv(data_url, sep=\"\\s+\", skiprows=22, header=None)\n",
    "\n",
    "# Process the raw data\n",
    "data = np.hstack([raw_df.values[::2, :], raw_df.values[1::2, :2]])\n",
    "target = raw_df.values[1::2, 2]\n",
    "\n",
    "# Display a description of the set\n",
    "description = \"\"\"\n",
    "Boston House Prices dataset\n",
    "===========================\n",
    "\n",
    "Notes\n",
    "------\n",
    "Data Set Characteristics:  \n",
    "\n",
    "    :Number of Instances: 506 \n",
    "\n",
    "    :Number of Attributes: 13 numeric/categorical predictive\n",
    "    \n",
    "    :Median Value (attribute 14) is usually the target\n",
    "\n",
    "    :Attribute Information (in order):\n",
    "        - CRIM     per capita crime rate by town\n",
    "        - ZN       proportion of residential land zoned for lots over 25,000 sq.ft.\n",
    "        - INDUS    proportion of non-retail business acres per town\n",
    "        - CHAS     Charles River dummy variable (= 1 if tract bounds river; 0 otherwise)\n",
    "        - NOX      nitric oxides concentration (parts per 10 million)\n",
    "        - RM       average number of rooms per dwelling\n",
    "        - AGE      proportion of owner-occupied units built prior to 1940\n",
    "        - DIS      weighted distances to five Boston employment centres\n",
    "        - RAD      index of accessibility to radial highways\n",
    "        - TAX      full-value property-tax rate per $10,000\n",
    "        - PTRATIO  pupil-teacher ratio by town\n",
    "        - B        1000(Bk - 0.63)^2 where Bk is the proportion of blacks by town\n",
    "        - LSTAT    % lower status of the population\n",
    "        - MEDV     Median value of owner-occupied homes in $1000's\n",
    "\n",
    "    :Missing Attribute Values: None\n",
    "\n",
    "    :Creator: Harrison, D. and Rubinfeld, D.L.\n",
    "\n",
    "This is a copy of UCI ML housing dataset.\n",
    "http://archive.ics.uci.edu/ml/datasets/Housing\n",
    "\n",
    "\n",
    "This dataset was taken from the StatLib library which is maintained at Carnegie Mellon University.\n",
    "\n",
    "The Boston house-price data of Harrison, D. and Rubinfeld, D.L. 'Hedonic\n",
    "prices and the demand for clean air', J. Environ. Economics & Management,\n",
    "vol.5, 81-102, 1978.   Used in Belsley, Kuh & Welsch, 'Regression diagnostics\n",
    "...', Wiley, 1980.   N.B. Various transformations are used in the table on\n",
    "pages 244-261 of the latter.\n",
    "\n",
    "The Boston house-price data has been used in many machine learning papers that address regression\n",
    "problems.   \n",
    "     \n",
    "**References**\n",
    "\n",
    "   - Belsley, Kuh & Welsch, 'Regression diagnostics: Identifying Influential Data and Sources of Collinearity', Wiley, 1980. 244-261.\n",
    "   - Quinlan,R. (1993). Combining Instance-Based and Model-Based Learning. In Proceedings on the Tenth International Conference of Machine Learning, 236-243, University of Massachusetts, Amherst. Morgan Kaufmann.\n",
    "   - many more! (see http://archive.ics.uci.edu/ml/datasets/Housing)\n",
    "\"\"\"\n",
    "print(description)\n",
    "\n",
    "# Extract specified columns\n",
    "# Proportion of non-retail business\n",
    "x = data[:, 2]\n",
    "# Nitric oxide concentration\n",
    "y = data [:, 4]\n",
    "\n",
    "# Generate plot and label appropriately\n",
    "plt.scatter(x, y, marker='+')\n",
    "plt.title('Boston Housing Data: Non-Retail Business Acres vs Nitric Oxide Concentration')\n",
    "plt.xlabel('Proportion of Non-Retail Business (Acres per Town)')\n",
    "plt.ylabel('Nitric Oxide Concentration (ppm)')\n",
    "plt.grid(True)\n",
    "plt.show()"
   ]
  },
  {
   "cell_type": "markdown",
   "id": "ddae3450-15fc-4f83-9c84-d3906afa5972",
   "metadata": {},
   "source": [
    "## Creating a multidimensional array"
   ]
  },
  {
   "cell_type": "markdown",
   "id": "3a697691-adb3-4924-8cfc-6ae6324f9c34",
   "metadata": {},
   "source": [
    "**4. Create a multidimensional array.**"
   ]
  },
  {
   "cell_type": "code",
   "execution_count": 6,
   "id": "a9c5ad39-a9a0-4da7-a5f7-5c7453a34920",
   "metadata": {},
   "outputs": [
    {
     "name": "stdout",
     "output_type": "stream",
     "text": [
      "3D Array:\n",
      "[[[ 1  2  3  4]\n",
      "  [ 5  6  7  8]\n",
      "  [ 9 10 11 12]]\n",
      "\n",
      " [[13 14 15 16]\n",
      "  [17 18 19 20]\n",
      "  [21 22 23 24]]]\n",
      "\n",
      "Shape of the array:\n",
      "(2, 3, 4)\n"
     ]
    }
   ],
   "source": [
    "# Create a 3D array (2x3x4)\n",
    "m = np.arange(1, 25).reshape((2, 3, 4))\n",
    "\n",
    "# Print the array\n",
    "print(\"3D Array:\")\n",
    "print(m)\n",
    "\n",
    "# Print the shape of the array\n",
    "print(\"\\nShape of the array:\")\n",
    "print(m.shape)"
   ]
  },
  {
   "cell_type": "markdown",
   "id": "ac53fb79-b362-43e6-b5d8-121b8d893598",
   "metadata": {},
   "source": [
    "## NumPy numerical types and character codes"
   ]
  },
  {
   "cell_type": "markdown",
   "id": "6cb95f20-d2ef-457f-a025-e3b8bf8dd855",
   "metadata": {},
   "source": [
    "**5. Produce an array of single precision floats.**"
   ]
  },
  {
   "cell_type": "code",
   "execution_count": 7,
   "id": "781856ea-b398-44bd-8da4-7c46f2da4670",
   "metadata": {},
   "outputs": [
    {
     "data": {
      "text/plain": [
       "array([0., 1., 2., 3., 4.], dtype=float32)"
      ]
     },
     "execution_count": 7,
     "metadata": {},
     "output_type": "execute_result"
    }
   ],
   "source": [
    "# Generate an array of single precision floats\n",
    "precision_array = np.arange(5, dtype='f')\n",
    "\n",
    "# Display result\n",
    "precision_array"
   ]
  },
  {
   "cell_type": "markdown",
   "id": "9cf1e547-906c-4835-9a88-3018e6089d07",
   "metadata": {},
   "source": [
    "**6. Produce an array of complex numbers.**"
   ]
  },
  {
   "cell_type": "code",
   "execution_count": 8,
   "id": "6f019554-4212-4000-8614-6af5985ad814",
   "metadata": {},
   "outputs": [
    {
     "data": {
      "text/plain": [
       "array([0.+0.j, 1.+0.j, 2.+0.j, 3.+0.j, 4.+0.j])"
      ]
     },
     "execution_count": 8,
     "metadata": {},
     "output_type": "execute_result"
    }
   ],
   "source": [
    "# Generate an array of complex numbers\n",
    "complex_array = np.arange(5, dtype='D')\n",
    "\n",
    "# Display result\n",
    "complex_array"
   ]
  },
  {
   "cell_type": "markdown",
   "id": "d84be67e-315b-4448-8699-6d9e263dbf16",
   "metadata": {},
   "source": [
    "## Slicing and indexing"
   ]
  },
  {
   "cell_type": "markdown",
   "id": "ab648eea-cd38-4645-b0d8-7a0f20d794b2",
   "metadata": {},
   "source": [
    "**7. Define an array containing the number 0, 1, 2, and so on up to and including 8. Select a part of the array from indexes 3 to 7, which extract the elements of the arrays 3 through 6. Choose elements from an index of 0 to 7 with an increment of 2. Then reverse the array.**"
   ]
  },
  {
   "cell_type": "code",
   "execution_count": 9,
   "id": "eff70e82-9d7f-4744-a724-b4a73a628ba5",
   "metadata": {},
   "outputs": [
    {
     "data": {
      "text/plain": [
       "array([0, 1, 2, 3, 4, 5, 6, 7, 8])"
      ]
     },
     "execution_count": 9,
     "metadata": {},
     "output_type": "execute_result"
    }
   ],
   "source": [
    "# Generate an array containing numbers 0 to 8\n",
    "a = np.arange(9)\n",
    "\n",
    "# Display results\n",
    "a"
   ]
  },
  {
   "cell_type": "code",
   "execution_count": 10,
   "id": "97d83784-9c52-4100-8624-6c90f7d98270",
   "metadata": {},
   "outputs": [
    {
     "data": {
      "text/plain": [
       "array([3, 4, 5, 6])"
      ]
     },
     "execution_count": 10,
     "metadata": {},
     "output_type": "execute_result"
    }
   ],
   "source": [
    "# Select part of the array from indexes 3 to 7\n",
    "a_part = a[3:7]\n",
    "\n",
    "# Display results\n",
    "a_part"
   ]
  },
  {
   "cell_type": "code",
   "execution_count": 11,
   "id": "ca214d5b-cfeb-44b3-beba-79960cdd9d96",
   "metadata": {},
   "outputs": [
    {
     "data": {
      "text/plain": [
       "array([0, 2, 4, 6])"
      ]
     },
     "execution_count": 11,
     "metadata": {},
     "output_type": "execute_result"
    }
   ],
   "source": [
    "# Choose elements from an index with an increment of 2\n",
    "a_increment = a[:7:2]\n",
    "\n",
    "# Display results\n",
    "a_increment"
   ]
  },
  {
   "cell_type": "code",
   "execution_count": 12,
   "id": "f32144f9-a2c7-4cae-8bb8-d2a98344adf5",
   "metadata": {},
   "outputs": [
    {
     "data": {
      "text/plain": [
       "array([8, 7, 6, 5, 4, 3, 2, 1, 0])"
      ]
     },
     "execution_count": 12,
     "metadata": {},
     "output_type": "execute_result"
    }
   ],
   "source": [
    "# Reverse the array\n",
    "a_reverse = a[::-1]\n",
    "\n",
    "# Display results\n",
    "a_reverse"
   ]
  },
  {
   "cell_type": "markdown",
   "id": "f6adb4fa-315e-454b-807f-3181d71bc66e",
   "metadata": {},
   "source": [
    "## Manipulating array shapes"
   ]
  },
  {
   "cell_type": "markdown",
   "id": "d092703c-9a6f-4169-8b81-b9b67ac3dbfb",
   "metadata": {},
   "source": [
    "**8. Starting on page 34 of your text, create an array and perform the following functions:**\n",
    " - Ravel\n",
    " - Flatten\n",
    " - Setting the shape with a tuple\n",
    " - Transpose\n",
    " - Resize"
   ]
  },
  {
   "cell_type": "code",
   "execution_count": 13,
   "id": "408eadf8-fe81-4f98-b78f-ca38f025ebd0",
   "metadata": {},
   "outputs": [
    {
     "data": {
      "text/plain": [
       "array([[ 1,  2,  3,  4],\n",
       "       [ 5,  6,  7,  8],\n",
       "       [ 9, 10, 11, 12]])"
      ]
     },
     "execution_count": 13,
     "metadata": {},
     "output_type": "execute_result"
    }
   ],
   "source": [
    "# Create an array\n",
    "b = np.arange(1, 13).reshape(3, 4)\n",
    "\n",
    "# Display results\n",
    "b"
   ]
  },
  {
   "cell_type": "code",
   "execution_count": 14,
   "id": "d26babf3-9d4c-4669-8cba-42da396ed9df",
   "metadata": {},
   "outputs": [
    {
     "name": "stdout",
     "output_type": "stream",
     "text": [
      "[ 1  2  3  4  5  6  7  8  9 10 11 12]\n"
     ]
    }
   ],
   "source": [
    "# Perform ravel\n",
    "b.ravel()\n",
    "\n",
    "# Display results\n",
    "print(b.ravel())"
   ]
  },
  {
   "cell_type": "code",
   "execution_count": 15,
   "id": "1c7bfdf4-083d-48ef-b8c9-dba34dcaa55c",
   "metadata": {},
   "outputs": [
    {
     "name": "stdout",
     "output_type": "stream",
     "text": [
      "[ 1  2  3  4  5  6  7  8  9 10 11 12]\n"
     ]
    }
   ],
   "source": [
    "# Perform flatten\n",
    "b.flatten()\n",
    "\n",
    "# Display results\n",
    "print(b.flatten())"
   ]
  },
  {
   "cell_type": "code",
   "execution_count": 16,
   "id": "fb2b5a39-833b-4517-95fe-7f61a346f641",
   "metadata": {},
   "outputs": [
    {
     "name": "stdout",
     "output_type": "stream",
     "text": [
      "[[ 1  2  3  4]\n",
      " [ 5  6  7  8]\n",
      " [ 9 10 11 12]]\n"
     ]
    }
   ],
   "source": [
    "# Set the shape with a tuple\n",
    "b.shape = (3, 4)\n",
    "\n",
    "# Display results\n",
    "print(b)"
   ]
  },
  {
   "cell_type": "code",
   "execution_count": 17,
   "id": "e43ce197-3222-4970-9883-9023531fc70f",
   "metadata": {},
   "outputs": [
    {
     "name": "stdout",
     "output_type": "stream",
     "text": [
      "[[ 1  5  9]\n",
      " [ 2  6 10]\n",
      " [ 3  7 11]\n",
      " [ 4  8 12]]\n"
     ]
    }
   ],
   "source": [
    "# Transpose array\n",
    "print(b.transpose())"
   ]
  },
  {
   "cell_type": "code",
   "execution_count": 18,
   "id": "60875017-8502-4073-a4a2-26e6e5049bad",
   "metadata": {},
   "outputs": [
    {
     "name": "stdout",
     "output_type": "stream",
     "text": [
      "[[ 1  2  3  4  5  6]\n",
      " [ 7  8  9 10 11 12]]\n"
     ]
    }
   ],
   "source": [
    "# Resize the array\n",
    "b.resize(2, 6)\n",
    "\n",
    "# Display results\n",
    "print(b)"
   ]
  },
  {
   "cell_type": "markdown",
   "id": "ea8723d4-019b-4164-a0e5-1a85e5ee7c93",
   "metadata": {},
   "source": [
    "## NumPy array attributes"
   ]
  },
  {
   "cell_type": "markdown",
   "id": "04939249-e8cc-42d0-ba8e-1afa28d596eb",
   "metadata": {},
   "source": [
    "**9. Starting on page 41 of your text, create an array and find the following properties:**\n",
    " - Number of dimensions\n",
    " - Count of elements\n",
    " - Count of bytes\n",
    " - Full count of bytes"
   ]
  },
  {
   "cell_type": "code",
   "execution_count": 19,
   "id": "477860a3-440a-4c88-85e5-316799d1a904",
   "metadata": {},
   "outputs": [
    {
     "data": {
      "text/plain": [
       "array([[ 1,  2,  3,  4],\n",
       "       [ 5,  6,  7,  8],\n",
       "       [ 9, 10, 11, 12]])"
      ]
     },
     "execution_count": 19,
     "metadata": {},
     "output_type": "execute_result"
    }
   ],
   "source": [
    "# Create an array\n",
    "c = np.arange(1, 13).reshape(3, 4)\n",
    "\n",
    "# Display results\n",
    "c"
   ]
  },
  {
   "cell_type": "code",
   "execution_count": 20,
   "id": "536074d7-1f14-47a9-95aa-9adb16d64795",
   "metadata": {},
   "outputs": [
    {
     "data": {
      "text/plain": [
       "2"
      ]
     },
     "execution_count": 20,
     "metadata": {},
     "output_type": "execute_result"
    }
   ],
   "source": [
    "# Number of dimensions\n",
    "c.ndim"
   ]
  },
  {
   "cell_type": "code",
   "execution_count": 21,
   "id": "3f5b5baa-6529-4c9c-887a-8ad596009c55",
   "metadata": {},
   "outputs": [
    {
     "data": {
      "text/plain": [
       "12"
      ]
     },
     "execution_count": 21,
     "metadata": {},
     "output_type": "execute_result"
    }
   ],
   "source": [
    "# Count of elements\n",
    "c.size"
   ]
  },
  {
   "cell_type": "code",
   "execution_count": 22,
   "id": "dc58f5fd-b55d-429c-b615-7384342ec1bd",
   "metadata": {},
   "outputs": [
    {
     "data": {
      "text/plain": [
       "4"
      ]
     },
     "execution_count": 22,
     "metadata": {},
     "output_type": "execute_result"
    }
   ],
   "source": [
    "# Count of bytes\n",
    "c.itemsize"
   ]
  },
  {
   "cell_type": "code",
   "execution_count": 23,
   "id": "a83f838b-887e-4f24-8c71-068902fd4fc1",
   "metadata": {},
   "outputs": [
    {
     "data": {
      "text/plain": [
       "48"
      ]
     },
     "execution_count": 23,
     "metadata": {},
     "output_type": "execute_result"
    }
   ],
   "source": [
    "# Full count of bytes\n",
    "c.nbytes"
   ]
  },
  {
   "cell_type": "markdown",
   "id": "69b3ae30-a488-4812-84f8-75d159e73ec9",
   "metadata": {},
   "source": [
    "## Converting arrays"
   ]
  },
  {
   "cell_type": "markdown",
   "id": "c68eaffc-b74c-4612-b766-910e73ad9eea",
   "metadata": {},
   "source": [
    "**10. Starting on page 45 of your text, convert an array to a Python list.**"
   ]
  },
  {
   "cell_type": "code",
   "execution_count": 24,
   "id": "2af8e0ca-5e50-4e9b-a359-7e0359e6d15d",
   "metadata": {},
   "outputs": [
    {
     "data": {
      "text/plain": [
       "array([[ 1,  2,  3,  4,  5],\n",
       "       [ 6,  7,  8,  9, 10]])"
      ]
     },
     "execution_count": 24,
     "metadata": {},
     "output_type": "execute_result"
    }
   ],
   "source": [
    "# Generate an array\n",
    "this_array = np.arange(1, 11).reshape(2, 5)\n",
    "\n",
    "# Display results\n",
    "this_array"
   ]
  },
  {
   "cell_type": "code",
   "execution_count": 25,
   "id": "2f425d87-44aa-4f4a-8dd4-19f16b2947d9",
   "metadata": {},
   "outputs": [
    {
     "data": {
      "text/plain": [
       "[[1, 2, 3, 4, 5], [6, 7, 8, 9, 10]]"
      ]
     },
     "execution_count": 25,
     "metadata": {},
     "output_type": "execute_result"
    }
   ],
   "source": [
    "# Convert the array to a list\n",
    "from_array_to_list = this_array.tolist()\n",
    "\n",
    "# Display results\n",
    "from_array_to_list"
   ]
  }
 ],
 "metadata": {
  "kernelspec": {
   "display_name": "Python 3 (ipykernel)",
   "language": "python",
   "name": "python3"
  },
  "language_info": {
   "codemirror_mode": {
    "name": "ipython",
    "version": 3
   },
   "file_extension": ".py",
   "mimetype": "text/x-python",
   "name": "python",
   "nbconvert_exporter": "python",
   "pygments_lexer": "ipython3",
   "version": "3.11.7"
  }
 },
 "nbformat": 4,
 "nbformat_minor": 5
}
